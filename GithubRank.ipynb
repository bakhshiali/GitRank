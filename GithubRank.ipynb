{
 "cells": [
  {
   "cell_type": "code",
   "execution_count": 29,
   "id": "f006c55a-82a2-44a9-b811-47f0db6854a7",
   "metadata": {},
   "outputs": [
    {
     "name": "stdout",
     "output_type": "stream",
     "text": [
      "('B', 79.14271678737717)\n"
     ]
    }
   ],
   "source": [
    "def expsf(x, l = 1):\n",
    "    return 2 ** (-l * x)\n",
    "\n",
    "def calculateRank(all_commits, commits, prs, issues, repos, stars, followers):\n",
    "    COMMITS_MEAN = 1000 if all_commits else 250\n",
    "    COMMITS_WEIGHT = 2\n",
    "    PRS_MEAN = 50\n",
    "    PRS_WEIGHT = 3\n",
    "    ISSUES_MEAN = 25\n",
    "    ISSUES_WEIGHT = 1\n",
    "    STARS_MEAN = 250\n",
    "    STARS_WEIGHT = 4\n",
    "    FOLLOWERS_MEAN = 25\n",
    "    FOLLOWERS_WEIGHT = 1\n",
    "\n",
    "    TOTAL_WEIGHT = COMMITS_WEIGHT + PRS_WEIGHT + ISSUES_WEIGHT + STARS_WEIGHT + FOLLOWERS_WEIGHT;\n",
    "    rank =(COMMITS_WEIGHT * expsf(commits, 1 / COMMITS_MEAN) +\n",
    "      PRS_WEIGHT * expsf(prs, 1 / PRS_MEAN) +\n",
    "      ISSUES_WEIGHT * expsf(issues, 1 / ISSUES_MEAN) +\n",
    "      STARS_WEIGHT * expsf(stars, 1 / STARS_MEAN) +\n",
    "      FOLLOWERS_WEIGHT * expsf(followers, 1 / FOLLOWERS_MEAN)) /TOTAL_WEIGHT\n",
    "    RANK_S_PLUS = 0.025\n",
    "    RANK_S = 0.1\n",
    "    RANK_A_PLUS = 0.25\n",
    "    RANK_A = 0.5\n",
    "    RANK_B_PLUS = 0.75\n",
    "    def level (rank):\n",
    "        if (rank <= RANK_S_PLUS): return \"S+\"\n",
    "        if (rank <= RANK_S): return \"S\"\n",
    "        if (rank <= RANK_A_PLUS): return \"A+\"\n",
    "        if (rank <= RANK_A): return \"A\"\n",
    "        if (rank <= RANK_B_PLUS): return \"B+\"\n",
    "        return \"B\"\n",
    "    score= rank * 100\n",
    "    return  level(rank), score\n",
    "all_commits, commits, prs=0,888,0\n",
    "issues, repos, stars, followers=0,13,34,4\n",
    "myrank=calculateRank(all_commits, commits, prs, issues, repos, stars, followers)\n",
    "print(myrank)"
   ]
  },
  {
   "cell_type": "code",
   "execution_count": null,
   "id": "32aca0ba-1a47-4f5c-b2a2-acfc60010857",
   "metadata": {},
   "outputs": [],
   "source": []
  }
 ],
 "metadata": {
  "kernelspec": {
   "display_name": "Python 3 (ipykernel)",
   "language": "python",
   "name": "python3"
  },
  "language_info": {
   "codemirror_mode": {
    "name": "ipython",
    "version": 3
   },
   "file_extension": ".py",
   "mimetype": "text/x-python",
   "name": "python",
   "nbconvert_exporter": "python",
   "pygments_lexer": "ipython3",
   "version": "3.10.8"
  }
 },
 "nbformat": 4,
 "nbformat_minor": 5
}
